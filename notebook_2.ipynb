{
  "nbformat": 4,
  "nbformat_minor": 0,
  "metadata": {
    "colab": {
      "provenance": [],
      "mount_file_id": "1UZeQTK7NJCDGYyo6212HhFuWvWyXyE5t",
      "authorship_tag": "ABX9TyNAUx50tcQc8taL4Wjq8/eI",
      "include_colab_link": true
    },
    "kernelspec": {
      "name": "python3",
      "display_name": "Python 3"
    },
    "language_info": {
      "name": "python"
    }
  },
  "cells": [
    {
      "cell_type": "markdown",
      "metadata": {
        "id": "view-in-github",
        "colab_type": "text"
      },
      "source": [
        "<a href=\"https://colab.research.google.com/github/Aastik01us/Bitcoin-Market-Sentiment-Dataset/blob/main/notebook_2.ipynb\" target=\"_parent\"><img src=\"https://colab.research.google.com/assets/colab-badge.svg\" alt=\"Open In Colab\"/></a>"
      ]
    },
    {
      "cell_type": "code",
      "execution_count": null,
      "metadata": {
        "id": "lFhg-9aGjXK5"
      },
      "outputs": [],
      "source": [
        "# Mount Google Drive\n",
        "from google.colab import drive\n",
        "drive.mount('/content/drive')\n",
        "\n",
        "# Path to processed CSV file in Drive\n",
        "csv_path = \"/content/drive/MyDrive/csv_files/processed_trader_sentiment.csv\"\n",
        "\n",
        "import pandas as pd\n",
        "df = pd.read_csv(csv_path)\n",
        "\n",
        "print(\"Data loaded successfully!\")\n",
        "print(df.head())\n"
      ]
    },
    {
      "cell_type": "code",
      "source": [],
      "metadata": {
        "id": "WPCrqxJMja6p"
      },
      "execution_count": null,
      "outputs": []
    }
  ]
}